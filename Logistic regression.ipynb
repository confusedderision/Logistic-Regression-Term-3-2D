{
 "cells": [
  {
   "cell_type": "code",
   "execution_count": 52,
   "id": "cc696b03",
   "metadata": {},
   "outputs": [],
   "source": [
    "import os\n",
    "import pandas as pd\n",
    "import numpy as np\n",
    "from sklearn import preprocessing\n",
    "import matplotlib.pyplot as plt \n",
    "from sklearn.linear_model import LogisticRegression\n",
    "from sklearn.model_selection import train_test_split\n",
    "from sklearn.metrics import classification_report, confusion_matrix, roc_auc_score, roc_curve\n",
    "import seaborn as sns\n",
    "import statsmodels.api as sm\n",
    "%matplotlib inline"
   ]
  },
  {
   "cell_type": "code",
   "execution_count": 53,
   "id": "1a8aab5c",
   "metadata": {},
   "outputs": [],
   "source": [
    "raw_data = pd.read_csv(r"COVID_dataset.csv",header=0)\n",
    "df = raw_data.copy()"
   ]
  },
  {
   "cell_type": "code",
   "execution_count": 54,
   "id": "0ca4b2b7",
   "metadata": {},
   "outputs": [],
   "source": [
    "comorbidities_count = np.zeros((len(df.index),), dtype=int)\n",
    "death_binary = np.zeros((len(df.index),), dtype=int)\n",
    "df['Comorbidities_count'] = comorbidities_count\n",
    "df['Death'] = death_binary"
   ]
  },
  {
   "cell_type": "code",
   "execution_count": 55,
   "id": "f6ef03dd",
   "metadata": {},
   "outputs": [
    {
     "name": "stderr",
     "output_type": "stream",
     "text": [
      "<ipython-input-55-9e66dc8438d1>:5: SettingWithCopyWarning: \n",
      "A value is trying to be set on a copy of a slice from a DataFrame\n",
      "\n",
      "See the caveats in the documentation: https://pandas.pydata.org/pandas-docs/stable/user_guide/indexing.html#returning-a-view-versus-a-copy\n",
      "  df['Comorbidities_count'][i] = len(df['Comorbidities'][i].split(\",\"))\n",
      "<ipython-input-55-9e66dc8438d1>:3: SettingWithCopyWarning: \n",
      "A value is trying to be set on a copy of a slice from a DataFrame\n",
      "\n",
      "See the caveats in the documentation: https://pandas.pydata.org/pandas-docs/stable/user_guide/indexing.html#returning-a-view-versus-a-copy\n",
      "  df['Comorbidities_count'][i] = 0\n",
      "<ipython-input-55-9e66dc8438d1>:9: SettingWithCopyWarning: \n",
      "A value is trying to be set on a copy of a slice from a DataFrame\n",
      "\n",
      "See the caveats in the documentation: https://pandas.pydata.org/pandas-docs/stable/user_guide/indexing.html#returning-a-view-versus-a-copy\n",
      "  df['Death'][i] = 1\n",
      "<ipython-input-55-9e66dc8438d1>:11: SettingWithCopyWarning: \n",
      "A value is trying to be set on a copy of a slice from a DataFrame\n",
      "\n",
      "See the caveats in the documentation: https://pandas.pydata.org/pandas-docs/stable/user_guide/indexing.html#returning-a-view-versus-a-copy\n",
      "  df['Death'][i] = 0\n"
     ]
    },
    {
     "data": {
      "text/html": [
       "<div>\n",
       "<style scoped>\n",
       "    .dataframe tbody tr th:only-of-type {\n",
       "        vertical-align: middle;\n",
       "    }\n",
       "\n",
       "    .dataframe tbody tr th {\n",
       "        vertical-align: top;\n",
       "    }\n",
       "\n",
       "    .dataframe thead th {\n",
       "        text-align: right;\n",
       "    }\n",
       "</style>\n",
       "<table border=\"1\" class=\"dataframe\">\n",
       "  <thead>\n",
       "    <tr style=\"text-align: right;\">\n",
       "      <th></th>\n",
       "      <th>Number</th>\n",
       "      <th>Age</th>\n",
       "      <th>Sex</th>\n",
       "      <th>Comorbidities</th>\n",
       "      <th>Patient died</th>\n",
       "      <th>Comorbidities_count</th>\n",
       "      <th>Death</th>\n",
       "    </tr>\n",
       "  </thead>\n",
       "  <tbody>\n",
       "    <tr>\n",
       "      <th>0</th>\n",
       "      <td>1</td>\n",
       "      <td>74</td>\n",
       "      <td>Male</td>\n",
       "      <td>Hypertension,Diabetes,Other</td>\n",
       "      <td>Yes</td>\n",
       "      <td>3</td>\n",
       "      <td>1</td>\n",
       "    </tr>\n",
       "    <tr>\n",
       "      <th>1</th>\n",
       "      <td>2</td>\n",
       "      <td>61</td>\n",
       "      <td>Female</td>\n",
       "      <td>Hypertension,Other</td>\n",
       "      <td>No</td>\n",
       "      <td>2</td>\n",
       "      <td>0</td>\n",
       "    </tr>\n",
       "    <tr>\n",
       "      <th>2</th>\n",
       "      <td>3</td>\n",
       "      <td>58</td>\n",
       "      <td>Female</td>\n",
       "      <td>Hypertension</td>\n",
       "      <td>No</td>\n",
       "      <td>1</td>\n",
       "      <td>0</td>\n",
       "    </tr>\n",
       "    <tr>\n",
       "      <th>3</th>\n",
       "      <td>4</td>\n",
       "      <td>94</td>\n",
       "      <td>Male</td>\n",
       "      <td>Hypertension,Other</td>\n",
       "      <td>Yes</td>\n",
       "      <td>2</td>\n",
       "      <td>1</td>\n",
       "    </tr>\n",
       "    <tr>\n",
       "      <th>4</th>\n",
       "      <td>5</td>\n",
       "      <td>91</td>\n",
       "      <td>Male</td>\n",
       "      <td>Chronic cardiac disease (not hypertension),Hyp...</td>\n",
       "      <td>Yes</td>\n",
       "      <td>4</td>\n",
       "      <td>1</td>\n",
       "    </tr>\n",
       "    <tr>\n",
       "      <th>...</th>\n",
       "      <td>...</td>\n",
       "      <td>...</td>\n",
       "      <td>...</td>\n",
       "      <td>...</td>\n",
       "      <td>...</td>\n",
       "      <td>...</td>\n",
       "      <td>...</td>\n",
       "    </tr>\n",
       "    <tr>\n",
       "      <th>503</th>\n",
       "      <td>504</td>\n",
       "      <td>74</td>\n",
       "      <td>Female</td>\n",
       "      <td>Other</td>\n",
       "      <td>Yes</td>\n",
       "      <td>1</td>\n",
       "      <td>1</td>\n",
       "    </tr>\n",
       "    <tr>\n",
       "      <th>504</th>\n",
       "      <td>505</td>\n",
       "      <td>81</td>\n",
       "      <td>Male</td>\n",
       "      <td>Hypertension,Chronic renal,Diabetes,Other</td>\n",
       "      <td>No</td>\n",
       "      <td>4</td>\n",
       "      <td>0</td>\n",
       "    </tr>\n",
       "    <tr>\n",
       "      <th>505</th>\n",
       "      <td>506</td>\n",
       "      <td>74</td>\n",
       "      <td>Male</td>\n",
       "      <td>Hypertension,Other</td>\n",
       "      <td>No</td>\n",
       "      <td>2</td>\n",
       "      <td>0</td>\n",
       "    </tr>\n",
       "    <tr>\n",
       "      <th>506</th>\n",
       "      <td>507</td>\n",
       "      <td>48</td>\n",
       "      <td>Female</td>\n",
       "      <td>None</td>\n",
       "      <td>No</td>\n",
       "      <td>0</td>\n",
       "      <td>0</td>\n",
       "    </tr>\n",
       "    <tr>\n",
       "      <th>507</th>\n",
       "      <td>508</td>\n",
       "      <td>73</td>\n",
       "      <td>Male</td>\n",
       "      <td>None</td>\n",
       "      <td>No</td>\n",
       "      <td>0</td>\n",
       "      <td>0</td>\n",
       "    </tr>\n",
       "  </tbody>\n",
       "</table>\n",
       "<p>508 rows × 7 columns</p>\n",
       "</div>"
      ],
      "text/plain": [
       "     Number  Age     Sex                                      Comorbidities  \\\n",
       "0         1   74    Male                        Hypertension,Diabetes,Other   \n",
       "1         2   61  Female                                 Hypertension,Other   \n",
       "2         3   58  Female                                       Hypertension   \n",
       "3         4   94    Male                                 Hypertension,Other   \n",
       "4         5   91    Male  Chronic cardiac disease (not hypertension),Hyp...   \n",
       "..      ...  ...     ...                                                ...   \n",
       "503     504   74  Female                                              Other   \n",
       "504     505   81    Male          Hypertension,Chronic renal,Diabetes,Other   \n",
       "505     506   74    Male                                 Hypertension,Other   \n",
       "506     507   48  Female                                               None   \n",
       "507     508   73    Male                                               None   \n",
       "\n",
       "    Patient died  Comorbidities_count  Death  \n",
       "0            Yes                    3      1  \n",
       "1             No                    2      0  \n",
       "2             No                    1      0  \n",
       "3            Yes                    2      1  \n",
       "4            Yes                    4      1  \n",
       "..           ...                  ...    ...  \n",
       "503          Yes                    1      1  \n",
       "504           No                    4      0  \n",
       "505           No                    2      0  \n",
       "506           No                    0      0  \n",
       "507           No                    0      0  \n",
       "\n",
       "[508 rows x 7 columns]"
      ]
     },
     "execution_count": 55,
     "metadata": {},
     "output_type": "execute_result"
    }
   ],
   "source": [
    "for i in range(len(df.index)):\n",
    "    if df['Comorbidities'][i] == 'None':\n",
    "        df['Comorbidities_count'][i] = 0\n",
    "    else:\n",
    "        df['Comorbidities_count'][i] = len(df['Comorbidities'][i].split(\",\"))\n",
    "        \n",
    "for i in range(len(df.index)):\n",
    "    if df['Patient died'][i] == 'Yes':\n",
    "        df['Death'][i] = 1\n",
    "    else:\n",
    "        df['Death'][i] = 0\n",
    "        \n",
    "df"
   ]
  },
  {
   "cell_type": "code",
   "execution_count": 56,
   "id": "6d729dff",
   "metadata": {},
   "outputs": [
    {
     "data": {
      "text/html": [
       "<div>\n",
       "<style scoped>\n",
       "    .dataframe tbody tr th:only-of-type {\n",
       "        vertical-align: middle;\n",
       "    }\n",
       "\n",
       "    .dataframe tbody tr th {\n",
       "        vertical-align: top;\n",
       "    }\n",
       "\n",
       "    .dataframe thead th {\n",
       "        text-align: right;\n",
       "    }\n",
       "</style>\n",
       "<table border=\"1\" class=\"dataframe\">\n",
       "  <thead>\n",
       "    <tr style=\"text-align: right;\">\n",
       "      <th></th>\n",
       "      <th>Number</th>\n",
       "      <th>Comorbidities_count</th>\n",
       "      <th>Death</th>\n",
       "    </tr>\n",
       "    <tr>\n",
       "      <th>Age</th>\n",
       "      <th></th>\n",
       "      <th></th>\n",
       "      <th></th>\n",
       "    </tr>\n",
       "  </thead>\n",
       "  <tbody>\n",
       "    <tr>\n",
       "      <th>19</th>\n",
       "      <td>110.0</td>\n",
       "      <td>1.0</td>\n",
       "      <td>0.0</td>\n",
       "    </tr>\n",
       "    <tr>\n",
       "      <th>20</th>\n",
       "      <td>478.0</td>\n",
       "      <td>0.0</td>\n",
       "      <td>0.0</td>\n",
       "    </tr>\n",
       "    <tr>\n",
       "      <th>21</th>\n",
       "      <td>286.0</td>\n",
       "      <td>0.0</td>\n",
       "      <td>0.0</td>\n",
       "    </tr>\n",
       "    <tr>\n",
       "      <th>25</th>\n",
       "      <td>55.0</td>\n",
       "      <td>2.0</td>\n",
       "      <td>0.0</td>\n",
       "    </tr>\n",
       "    <tr>\n",
       "      <th>27</th>\n",
       "      <td>375.0</td>\n",
       "      <td>1.0</td>\n",
       "      <td>1.0</td>\n",
       "    </tr>\n",
       "    <tr>\n",
       "      <th>...</th>\n",
       "      <td>...</td>\n",
       "      <td>...</td>\n",
       "      <td>...</td>\n",
       "    </tr>\n",
       "    <tr>\n",
       "      <th>95</th>\n",
       "      <td>169.0</td>\n",
       "      <td>3.5</td>\n",
       "      <td>0.5</td>\n",
       "    </tr>\n",
       "    <tr>\n",
       "      <th>97</th>\n",
       "      <td>321.0</td>\n",
       "      <td>4.5</td>\n",
       "      <td>0.5</td>\n",
       "    </tr>\n",
       "    <tr>\n",
       "      <th>98</th>\n",
       "      <td>402.5</td>\n",
       "      <td>2.0</td>\n",
       "      <td>0.0</td>\n",
       "    </tr>\n",
       "    <tr>\n",
       "      <th>99</th>\n",
       "      <td>348.0</td>\n",
       "      <td>5.0</td>\n",
       "      <td>0.0</td>\n",
       "    </tr>\n",
       "    <tr>\n",
       "      <th>100</th>\n",
       "      <td>374.0</td>\n",
       "      <td>3.0</td>\n",
       "      <td>0.0</td>\n",
       "    </tr>\n",
       "  </tbody>\n",
       "</table>\n",
       "<p>76 rows × 3 columns</p>\n",
       "</div>"
      ],
      "text/plain": [
       "     Number  Comorbidities_count  Death\n",
       "Age                                    \n",
       "19    110.0                  1.0    0.0\n",
       "20    478.0                  0.0    0.0\n",
       "21    286.0                  0.0    0.0\n",
       "25     55.0                  2.0    0.0\n",
       "27    375.0                  1.0    1.0\n",
       "..      ...                  ...    ...\n",
       "95    169.0                  3.5    0.5\n",
       "97    321.0                  4.5    0.5\n",
       "98    402.5                  2.0    0.0\n",
       "99    348.0                  5.0    0.0\n",
       "100   374.0                  3.0    0.0\n",
       "\n",
       "[76 rows x 3 columns]"
      ]
     },
     "execution_count": 56,
     "metadata": {},
     "output_type": "execute_result"
    }
   ],
   "source": [
    "df.groupby('Age').mean()"
   ]
  },
  {
   "cell_type": "code",
   "execution_count": 57,
   "id": "9e0b6305",
   "metadata": {},
   "outputs": [
    {
     "data": {
      "image/png": "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\n",
      "text/plain": [
       "<Figure size 432x288 with 1 Axes>"
      ]
     },
     "metadata": {
      "needs_background": "light"
     },
     "output_type": "display_data"
    }
   ],
   "source": [
    "pd.crosstab(df.Age,df.Death).plot(kind='bar')\n",
    "plt.title('Frequency of death with age')\n",
    "plt.xlabel('Age')\n",
    "plt.ylabel('Frequency of Death')\n",
    "plt.savefig('death_fre_age')"
   ]
  },
  {
   "cell_type": "code",
   "execution_count": 58,
   "id": "fbddb94f",
   "metadata": {},
   "outputs": [
    {
     "data": {
      "text/html": [
       "<div>\n",
       "<style scoped>\n",
       "    .dataframe tbody tr th:only-of-type {\n",
       "        vertical-align: middle;\n",
       "    }\n",
       "\n",
       "    .dataframe tbody tr th {\n",
       "        vertical-align: top;\n",
       "    }\n",
       "\n",
       "    .dataframe thead th {\n",
       "        text-align: right;\n",
       "    }\n",
       "</style>\n",
       "<table border=\"1\" class=\"dataframe\">\n",
       "  <thead>\n",
       "    <tr style=\"text-align: right;\">\n",
       "      <th></th>\n",
       "      <th>Number</th>\n",
       "      <th>Age</th>\n",
       "      <th>Death</th>\n",
       "    </tr>\n",
       "    <tr>\n",
       "      <th>Comorbidities_count</th>\n",
       "      <th></th>\n",
       "      <th></th>\n",
       "      <th></th>\n",
       "    </tr>\n",
       "  </thead>\n",
       "  <tbody>\n",
       "    <tr>\n",
       "      <th>0</th>\n",
       "      <td>230.280000</td>\n",
       "      <td>49.160000</td>\n",
       "      <td>0.140000</td>\n",
       "    </tr>\n",
       "    <tr>\n",
       "      <th>1</th>\n",
       "      <td>239.094737</td>\n",
       "      <td>58.336842</td>\n",
       "      <td>0.157895</td>\n",
       "    </tr>\n",
       "    <tr>\n",
       "      <th>2</th>\n",
       "      <td>263.306306</td>\n",
       "      <td>64.459459</td>\n",
       "      <td>0.180180</td>\n",
       "    </tr>\n",
       "    <tr>\n",
       "      <th>3</th>\n",
       "      <td>259.848214</td>\n",
       "      <td>70.053571</td>\n",
       "      <td>0.107143</td>\n",
       "    </tr>\n",
       "    <tr>\n",
       "      <th>4</th>\n",
       "      <td>246.873563</td>\n",
       "      <td>73.218391</td>\n",
       "      <td>0.252874</td>\n",
       "    </tr>\n",
       "    <tr>\n",
       "      <th>5</th>\n",
       "      <td>315.657895</td>\n",
       "      <td>78.263158</td>\n",
       "      <td>0.236842</td>\n",
       "    </tr>\n",
       "    <tr>\n",
       "      <th>6</th>\n",
       "      <td>202.700000</td>\n",
       "      <td>78.600000</td>\n",
       "      <td>0.400000</td>\n",
       "    </tr>\n",
       "    <tr>\n",
       "      <th>7</th>\n",
       "      <td>245.600000</td>\n",
       "      <td>82.200000</td>\n",
       "      <td>0.200000</td>\n",
       "    </tr>\n",
       "  </tbody>\n",
       "</table>\n",
       "</div>"
      ],
      "text/plain": [
       "                         Number        Age     Death\n",
       "Comorbidities_count                                 \n",
       "0                    230.280000  49.160000  0.140000\n",
       "1                    239.094737  58.336842  0.157895\n",
       "2                    263.306306  64.459459  0.180180\n",
       "3                    259.848214  70.053571  0.107143\n",
       "4                    246.873563  73.218391  0.252874\n",
       "5                    315.657895  78.263158  0.236842\n",
       "6                    202.700000  78.600000  0.400000\n",
       "7                    245.600000  82.200000  0.200000"
      ]
     },
     "execution_count": 58,
     "metadata": {},
     "output_type": "execute_result"
    }
   ],
   "source": [
    "df.groupby('Comorbidities_count').mean()"
   ]
  },
  {
   "cell_type": "code",
   "execution_count": 59,
   "id": "e94a4fee",
   "metadata": {},
   "outputs": [
    {
     "data": {
      "image/png": "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\n",
      "text/plain": [
       "<Figure size 432x288 with 1 Axes>"
      ]
     },
     "metadata": {
      "needs_background": "light"
     },
     "output_type": "display_data"
    }
   ],
   "source": [
    "pd.crosstab(df.Comorbidities_count,df.Death).plot(kind='bar')\n",
    "plt.title('Frequency of death with comorbidities count')\n",
    "plt.xlabel('Comorbidities count')\n",
    "plt.ylabel('Frequency of Death')\n",
    "plt.savefig('death_fre_comorbcount')"
   ]
  },
  {
   "cell_type": "code",
   "execution_count": 60,
   "id": "8f5b12a2",
   "metadata": {},
   "outputs": [],
   "source": [
    "y = df['Death']\n",
    "X1 = df['Age'].values.reshape(-1, 1)\n",
    "X2 = df['Comorbidities_count'].values.reshape(-1, 1)"
   ]
  },
  {
   "cell_type": "code",
   "execution_count": 61,
   "id": "8e9f1e57",
   "metadata": {},
   "outputs": [
    {
     "name": "stdout",
     "output_type": "stream",
     "text": [
      "              precision    recall  f1-score   support\n",
      "\n",
      "           0       0.84      1.00      0.91       107\n",
      "           1       0.00      0.00      0.00        20\n",
      "\n",
      "    accuracy                           0.84       127\n",
      "   macro avg       0.42      0.50      0.46       127\n",
      "weighted avg       0.71      0.84      0.77       127\n",
      "\n"
     ]
    },
    {
     "name": "stderr",
     "output_type": "stream",
     "text": [
      "C:\\Users\\tanzh\\anaconda3\\lib\\site-packages\\sklearn\\metrics\\_classification.py:1245: UndefinedMetricWarning: Precision and F-score are ill-defined and being set to 0.0 in labels with no predicted samples. Use `zero_division` parameter to control this behavior.\n",
      "  _warn_prf(average, modifier, msg_start, len(result))\n",
      "C:\\Users\\tanzh\\anaconda3\\lib\\site-packages\\sklearn\\metrics\\_classification.py:1245: UndefinedMetricWarning: Precision and F-score are ill-defined and being set to 0.0 in labels with no predicted samples. Use `zero_division` parameter to control this behavior.\n",
      "  _warn_prf(average, modifier, msg_start, len(result))\n",
      "C:\\Users\\tanzh\\anaconda3\\lib\\site-packages\\sklearn\\metrics\\_classification.py:1245: UndefinedMetricWarning: Precision and F-score are ill-defined and being set to 0.0 in labels with no predicted samples. Use `zero_division` parameter to control this behavior.\n",
      "  _warn_prf(average, modifier, msg_start, len(result))\n"
     ]
    },
    {
     "data": {
      "image/png": "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\n",
      "text/plain": [
       "<Figure size 432x288 with 1 Axes>"
      ]
     },
     "metadata": {
      "needs_background": "light"
     },
     "output_type": "display_data"
    }
   ],
   "source": [
    "X1_train,X1_test,y_train,y_test=train_test_split(X1,y,test_size=0.25,random_state=0)\n",
    "logit_age = LogisticRegression()\n",
    "logit_age.fit(X1_train,y_train)\n",
    "predictions_age = logit_age.predict(X1_test)\n",
    "print(classification_report(y_test,predictions_age))\n",
    "\n",
    "logit_roc_auc = roc_auc_score(y_test, logit_age.predict(X1_test))\n",
    "fpr, tpr, thresholds = roc_curve(y_test, logit_age.predict_proba(X1_test)[:,1])\n",
    "plt.figure()\n",
    "plt.plot(fpr, tpr, label='Logistic Regression (area = %0.2f)' % logit_roc_auc)\n",
    "plt.plot([0, 1], [0, 1],'r--')\n",
    "plt.xlim([0.0, 1.0])\n",
    "plt.ylim([0.0, 1.05])\n",
    "plt.xlabel('False Positive Rate')\n",
    "plt.ylabel('True Positive Rate')\n",
    "plt.title('Receiver operating characteristic')\n",
    "plt.legend(loc=\"lower right\")\n",
    "plt.savefig('Log_ROC')\n",
    "plt.show()"
   ]
  },
  {
   "cell_type": "code",
   "execution_count": 62,
   "id": "37808117",
   "metadata": {},
   "outputs": [
    {
     "name": "stderr",
     "output_type": "stream",
     "text": [
      "C:\\Users\\tanzh\\anaconda3\\lib\\site-packages\\sklearn\\metrics\\_classification.py:1245: UndefinedMetricWarning: Precision and F-score are ill-defined and being set to 0.0 in labels with no predicted samples. Use `zero_division` parameter to control this behavior.\n",
      "  _warn_prf(average, modifier, msg_start, len(result))\n"
     ]
    },
    {
     "name": "stdout",
     "output_type": "stream",
     "text": [
      "              precision    recall  f1-score   support\n",
      "\n",
      "           0       0.84      1.00      0.91       107\n",
      "           1       0.00      0.00      0.00        20\n",
      "\n",
      "    accuracy                           0.84       127\n",
      "   macro avg       0.42      0.50      0.46       127\n",
      "weighted avg       0.71      0.84      0.77       127\n",
      "\n"
     ]
    },
    {
     "name": "stderr",
     "output_type": "stream",
     "text": [
      "C:\\Users\\tanzh\\anaconda3\\lib\\site-packages\\sklearn\\metrics\\_classification.py:1245: UndefinedMetricWarning: Precision and F-score are ill-defined and being set to 0.0 in labels with no predicted samples. Use `zero_division` parameter to control this behavior.\n",
      "  _warn_prf(average, modifier, msg_start, len(result))\n",
      "C:\\Users\\tanzh\\anaconda3\\lib\\site-packages\\sklearn\\metrics\\_classification.py:1245: UndefinedMetricWarning: Precision and F-score are ill-defined and being set to 0.0 in labels with no predicted samples. Use `zero_division` parameter to control this behavior.\n",
      "  _warn_prf(average, modifier, msg_start, len(result))\n"
     ]
    },
    {
     "data": {
      "image/png": "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\n",
      "text/plain": [
       "<Figure size 432x288 with 1 Axes>"
      ]
     },
     "metadata": {
      "needs_background": "light"
     },
     "output_type": "display_data"
    }
   ],
   "source": [
    "X2_train,X2_test,y_train,y_test=train_test_split(X2,y,test_size=0.25,random_state=0)\n",
    "logit_comorbcount = LogisticRegression()\n",
    "logit_comorbcount.fit(X1_train,y_train)\n",
    "predictions_comorbcount = logit_comorbcount.predict(X1_test)\n",
    "print(classification_report(y_test,predictions_comorbcount))\n",
    "\n",
    "logit_roc_auc = roc_auc_score(y_test, logit_comorbcount.predict(X1_test))\n",
    "fpr, tpr, thresholds = roc_curve(y_test, logit_comorbcount.predict_proba(X1_test)[:,1])\n",
    "plt.figure()\n",
    "plt.plot(fpr, tpr, label='Logistic Regression (area = %0.2f)' % logit_roc_auc)\n",
    "plt.plot([0, 1], [0, 1],'r--')\n",
    "plt.xlim([0.0, 1.0])\n",
    "plt.ylim([0.0, 1.05])\n",
    "plt.xlabel('False Positive Rate')\n",
    "plt.ylabel('True Positive Rate')\n",
    "plt.title('Receiver operating characteristic')\n",
    "plt.legend(loc=\"lower right\")\n",
    "plt.savefig('Log_ROC')\n",
    "plt.show()"
   ]
  }
 ],
 "metadata": {
  "kernelspec": {
   "display_name": "Python 3",
   "language": "python",
   "name": "python3"
  },
  "language_info": {
   "codemirror_mode": {
    "name": "ipython",
    "version": 3
   },
   "file_extension": ".py",
   "mimetype": "text/x-python",
   "name": "python",
   "nbconvert_exporter": "python",
   "pygments_lexer": "ipython3",
   "version": "3.8.8"
  }
 },
 "nbformat": 4,
 "nbformat_minor": 5
}
