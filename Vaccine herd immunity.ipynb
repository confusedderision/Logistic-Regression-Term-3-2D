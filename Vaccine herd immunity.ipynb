{
 "cells": [
  {
   "cell_type": "code",
   "execution_count": 112,
   "id": "d017c65d",
   "metadata": {},
   "outputs": [],
   "source": [
    "import numpy as np\n",
    "import matplotlib.pyplot as plt \n",
    "%matplotlib inline"
   ]
  },
  {
   "cell_type": "code",
   "execution_count": null,
   "id": "dfc7199f",
   "metadata": {},
   "outputs": [],
   "source": [
    "def basic_reprod_no_simple(beta,tau):\n",
    "    R_0 = beta*tau\n",
    "    return R_0"
   ]
  },
  {
   "cell_type": "code",
   "execution_count": 113,
   "id": "440fd778",
   "metadata": {},
   "outputs": [],
   "source": [
    "def herd_immunity_curve(R_0):\n",
    "    p_c = 1-(1/R_0)\n",
    "    y = np.array([])\n",
    "    x = np.arange(0.01,1.01,0.01)\n",
    "    for e in x:\n",
    "        V_c = np.array([p_c/(e+0.01)])\n",
    "        y = np.append(y,V_c)\n",
    "    plt.plot(x,y)\n",
    "    plt.ylim(0, 1)\n",
    "    return y,x,p_c"
   ]
  },
  {
   "cell_type": "code",
   "execution_count": 115,
   "id": "9fdfe305",
   "metadata": {},
   "outputs": [
    {
     "data": {
      "image/png": "[encoded data removed]",
      "text/plain": [
       "<Figure size 432x288 with 1 Axes>"
      ]
     },
     "metadata": {
      "needs_background": "light"
     },
     "output_type": "display_data"
    }
   ],
   "source": [
    "y,x,p_c = herd_immunity_curve(5.08)"
   ]
  },
  {
   "cell_type": "code",
   "execution_count": null,
   "id": "e2bd369f",
   "metadata": {},
   "outputs": [],
   "source": []
  }
 ],
 "metadata": {
  "kernelspec": {
   "display_name": "Python 3",
   "language": "python",
   "name": "python3"
  },
  "language_info": {
   "codemirror_mode": {
    "name": "ipython",
    "version": 3
   },
   "file_extension": ".py",
   "mimetype": "text/x-python",
   "name": "python",
   "nbconvert_exporter": "python",
   "pygments_lexer": "ipython3",
   "version": "3.8.8"
  }
 },
 "nbformat": 4,
 "nbformat_minor": 5
}
